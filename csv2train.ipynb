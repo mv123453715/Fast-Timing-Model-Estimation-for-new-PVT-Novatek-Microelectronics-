{
 "cells": [
  {
   "cell_type": "code",
   "execution_count": 23,
   "metadata": {},
   "outputs": [],
   "source": [
    "import pandas as pd\n",
    "import glob \n",
    "import os\n",
    "\n",
    "COLUMN_NAMES = ['temperature', 'voltage', 'capacitance', 'rise_capacitance', 'fall_capacitance', \n",
    "                'cell_rise', 'rise_transition', 'cell_fall', 'fall_transition', 'rise_power', 'fall_power',\n",
    "                'index1_1', 'index1_2', 'index1_3', 'index1_4', 'index1_5', 'index1_6', 'index1_7',\n",
    "                'index2_1', 'index2_2', 'index2_3', 'index2_4', 'index2_5', 'index2_6', 'index2_7']\n",
    "\n",
    "for i in range(1,50):\n",
    "    string = 'value_'+str(i)\n",
    "    COLUMN_NAMES.append(string)   "
   ]
  },
  {
   "cell_type": "code",
   "execution_count": 24,
   "metadata": {},
   "outputs": [],
   "source": [
    "intput_path = r'C:\\Users\\User\\Fast_Timing_Model_Estimation_for_new_PVT-master\\test\\boost\\csv'\n",
    "output_path = r'C:\\Users\\User\\Fast_Timing_Model_Estimation_for_new_PVT-master\\test\\boost\\csv'\n",
    "file_name = \"boost_test_total.csv\"\n",
    "\n",
    "df = pd.DataFrame()\n",
    "for train_csv in glob.glob(intput_path+'\\*.csv'):\n",
    "    tmp_df = pd.read_csv(train_csv)\n",
    "    df = pd.concat([df,tmp_df],axis=0, ignore_index=True)\n"
   ]
  },
  {
   "cell_type": "code",
   "execution_count": 25,
   "metadata": {},
   "outputs": [
    {
     "name": "stdout",
     "output_type": "stream",
     "text": [
      "   temperature  voltage  capacitance  rise_capacitance  fall_capacitance  \\\n",
      "0        125.0      1.1     0.001828          0.001793          0.001828   \n",
      "1        125.0      1.1     0.001828          0.001793          0.001828   \n",
      "2        125.0      1.1     0.001828          0.001793          0.001828   \n",
      "3        125.0      1.1     0.001828          0.001793          0.001828   \n",
      "4        125.0      1.1     0.002030          0.002030          0.001994   \n",
      "\n",
      "   cell_rise  rise_transition  cell_fall  fall_transition  rise_power  ...  \\\n",
      "0          1                0          0                0           0  ...   \n",
      "1          0                1          0                0           0  ...   \n",
      "2          0                0          1                0           0  ...   \n",
      "3          0                0          0                1           0  ...   \n",
      "4          1                0          0                0           0  ...   \n",
      "\n",
      "   value_40  value_41  value_42  value_43  value_44  value_45  value_46  \\\n",
      "0  0.167569  0.194109  0.227646  0.131480  0.135409  0.147435  0.165585   \n",
      "1  0.100020  0.140926  0.200086  0.056849  0.059163  0.068092  0.085134   \n",
      "2  0.161023  0.180252  0.203258  0.136427  0.139851  0.150850  0.166420   \n",
      "3  0.079131  0.101732  0.135855  0.055252  0.057148  0.064027  0.075795   \n",
      "4  0.160726  0.187628  0.221597  0.123143  0.126907  0.138467  0.156281   \n",
      "\n",
      "   value_47  value_48  value_49  \n",
      "0  0.188206  0.215481  0.249492  \n",
      "1  0.110126  0.148455  0.204953  \n",
      "2  0.184899  0.205635  0.229740  \n",
      "3  0.091634  0.112947  0.144519  \n",
      "4  0.178769  0.206622  0.241168  \n",
      "\n",
      "[5 rows x 74 columns]\n",
      "df.shape : (28290, 74)\n"
     ]
    }
   ],
   "source": [
    "print(df.head())\n",
    "print('df.shape :',df.shape)\n"
   ]
  },
  {
   "cell_type": "code",
   "execution_count": 26,
   "metadata": {},
   "outputs": [],
   "source": [
    "\n",
    "df.to_csv(os.path.join(output_path,file_name),index=0)"
   ]
  },
  {
   "cell_type": "code",
   "execution_count": null,
   "metadata": {},
   "outputs": [],
   "source": []
  }
 ],
 "metadata": {
  "kernelspec": {
   "display_name": "Python 3",
   "language": "python",
   "name": "python3"
  },
  "language_info": {
   "codemirror_mode": {
    "name": "ipython",
    "version": 3
   },
   "file_extension": ".py",
   "mimetype": "text/x-python",
   "name": "python",
   "nbconvert_exporter": "python",
   "pygments_lexer": "ipython3",
   "version": "3.7.3"
  }
 },
 "nbformat": 4,
 "nbformat_minor": 4
}
