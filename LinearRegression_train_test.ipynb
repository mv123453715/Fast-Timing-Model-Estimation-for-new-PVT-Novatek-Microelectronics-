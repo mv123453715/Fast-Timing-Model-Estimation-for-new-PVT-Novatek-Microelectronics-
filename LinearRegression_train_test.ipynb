{
 "cells": [
  {
   "cell_type": "code",
   "execution_count": 50,
   "metadata": {},
   "outputs": [],
   "source": [
    "import pandas as pd"
   ]
  },
  {
   "cell_type": "code",
   "execution_count": 79,
   "metadata": {},
   "outputs": [
    {
     "name": "stdout",
     "output_type": "stream",
     "text": [
      "   temperature  voltage  capacitance  rise_capacitance  fall_capacitance  \\\n",
      "0        125.0      1.1     0.001071          0.001056          0.001071   \n",
      "1        125.0      1.1     0.001071          0.001056          0.001071   \n",
      "2        125.0      1.1     0.001071          0.001056          0.001071   \n",
      "3        125.0      1.1     0.001071          0.001056          0.001071   \n",
      "4        125.0      1.1     0.001372          0.001372          0.001364   \n",
      "\n",
      "   cell_rise  rise_transition  cell_fall  fall_transition  rise_power  ...  \\\n",
      "0          1                0          0                0           0  ...   \n",
      "1          0                1          0                0           0  ...   \n",
      "2          0                0          1                0           0  ...   \n",
      "3          0                0          0                1           0  ...   \n",
      "4          1                0          0                0           0  ...   \n",
      "\n",
      "   value_40  value_41  value_42  value_43  value_44  value_45  value_46  \\\n",
      "0  0.164731  0.191002  0.224013  0.126936  0.130848  0.142535  0.160737   \n",
      "1  0.100202  0.140356  0.198184  0.056514  0.058787  0.067833  0.084734   \n",
      "2  0.163827  0.183097  0.206089  0.141365  0.145039  0.155790  0.171195   \n",
      "3  0.079007  0.102013  0.135869  0.054892  0.056767  0.063839  0.075286   \n",
      "4  0.157150  0.183862  0.217469  0.117389  0.121195  0.132641  0.150343   \n",
      "\n",
      "   value_47  value_48  value_49  \n",
      "0  0.183215  0.210546  0.244282  \n",
      "1  0.110334  0.148181  0.203721  \n",
      "2  0.189754  0.210657  0.234697  \n",
      "3  0.090485  0.112683  0.144575  \n",
      "4  0.172742  0.200440  0.234599  \n",
      "\n",
      "[5 rows x 74 columns]\n",
      "df.shape : (18858, 74)\n"
     ]
    }
   ],
   "source": [
    "train_path = r'C:\\Users\\User\\Fast_Timing_Model_Estimation_for_new_PVT-master\\train\\boost\\csv\\train_ff1p1v125c.csv'\n",
    "\n",
    "train = pd.read_csv(train_path)\n",
    "print(train.head())\n",
    "print('df.shape :',train.shape)"
   ]
  },
  {
   "cell_type": "code",
   "execution_count": 82,
   "metadata": {},
   "outputs": [
    {
     "name": "stdout",
     "output_type": "stream",
     "text": [
      "   temperature  voltage  capacitance  rise_capacitance  fall_capacitance  \\\n",
      "0        125.0      1.1     0.001828          0.001793          0.001828   \n",
      "1        125.0      1.1     0.001828          0.001793          0.001828   \n",
      "2        125.0      1.1     0.001828          0.001793          0.001828   \n",
      "3        125.0      1.1     0.001828          0.001793          0.001828   \n",
      "4        125.0      1.1     0.002030          0.002030          0.001994   \n",
      "\n",
      "   cell_rise  rise_transition  cell_fall  fall_transition  rise_power  ...  \\\n",
      "0          1                0          0                0           0  ...   \n",
      "1          0                1          0                0           0  ...   \n",
      "2          0                0          1                0           0  ...   \n",
      "3          0                0          0                1           0  ...   \n",
      "4          1                0          0                0           0  ...   \n",
      "\n",
      "   value_40  value_41  value_42  value_43  value_44  value_45  value_46  \\\n",
      "0  0.167569  0.194109  0.227646  0.131480  0.135409  0.147435  0.165585   \n",
      "1  0.100020  0.140926  0.200086  0.056849  0.059163  0.068092  0.085134   \n",
      "2  0.161023  0.180252  0.203258  0.136427  0.139851  0.150850  0.166420   \n",
      "3  0.079131  0.101732  0.135855  0.055252  0.057148  0.064027  0.075795   \n",
      "4  0.160726  0.187628  0.221597  0.123143  0.126907  0.138467  0.156281   \n",
      "\n",
      "   value_47  value_48  value_49  \n",
      "0  0.188206  0.215481  0.249492  \n",
      "1  0.110126  0.148455  0.204953  \n",
      "2  0.184899  0.205635  0.229740  \n",
      "3  0.091634  0.112947  0.144519  \n",
      "4  0.178769  0.206622  0.241168  \n",
      "\n",
      "[5 rows x 74 columns]\n",
      "df.shape : (5658, 74)\n"
     ]
    }
   ],
   "source": [
    "test_path = r'C:\\Users\\User\\Fast_Timing_Model_Estimation_for_new_PVT-master\\test\\boost\\csv\\lib1_ff1p1v125c_beta_100.csv'\n",
    "\n",
    "test = pd.read_csv(test_path)\n",
    "print(test.head())\n",
    "print('df.shape :',test.shape)"
   ]
  },
  {
   "cell_type": "code",
   "execution_count": 83,
   "metadata": {},
   "outputs": [],
   "source": [
    "import numpy as np \n",
    "from sklearn.ensemble import RandomForestClassifier\n",
    "from sklearn.model_selection import train_test_split\n",
    "from sklearn import preprocessing\n",
    "import matplotlib.pyplot as plt"
   ]
  },
  {
   "cell_type": "code",
   "execution_count": 84,
   "metadata": {},
   "outputs": [
    {
     "name": "stdout",
     "output_type": "stream",
     "text": [
      "train.shape : (18858, 74)\n",
      "test.shape : (5658, 74)\n"
     ]
    }
   ],
   "source": [
    "print('train.shape :',train.shape)\n",
    "print('test.shape :',test.shape)"
   ]
  },
  {
   "cell_type": "code",
   "execution_count": 85,
   "metadata": {},
   "outputs": [],
   "source": [
    "value_columns = []\n",
    "for i in range(1,50):\n",
    "    string = 'value_'+str(i)\n",
    "    value_columns.append(string)   \n",
    "\n",
    "train_y = train[value_columns]\n",
    "test_y = test[value_columns]\n",
    "\n",
    "for col in value_columns:\n",
    "    train.pop(col)\n",
    "    test.pop(col)\n",
    "    \n",
    "train_x = train\n",
    "test_x = test"
   ]
  },
  {
   "cell_type": "code",
   "execution_count": 86,
   "metadata": {},
   "outputs": [],
   "source": [
    "#dataframe -> numpy.array.value\n",
    "train_x = train_x.values\n",
    "train_y = train_y.values\n",
    "    \n",
    "test_x = test_x.values\n",
    "test_y = test_y.values"
   ]
  },
  {
   "cell_type": "code",
   "execution_count": 94,
   "metadata": {},
   "outputs": [
    {
     "name": "stdout",
     "output_type": "stream",
     "text": [
      "(5658, 49)\n",
      "[[0.04150391 0.04528809 0.05706787 ... 0.16595459 0.20495605 0.25628662]\n",
      " [0.02282715 0.02709961 0.04089355 ... 0.12335205 0.17016602 0.23382568]\n",
      " [0.03875732 0.0423584  0.05352783 ... 0.1505127  0.18591309 0.23205566]\n",
      " ...\n",
      " [0.0032959  0.0032959  0.00335693 ... 0.00500488 0.00524902 0.00561523]\n",
      " [0.00408936 0.00408936 0.00415039 ... 0.0057373  0.00592041 0.00634766]\n",
      " [0.0032959  0.0032959  0.00335693 ... 0.00500488 0.00524902 0.00561523]]\n",
      "[[0.0433743  0.0466042  0.0559071  ... 0.188206   0.215481   0.249492  ]\n",
      " [0.0206819  0.023827   0.0344651  ... 0.110126   0.148455   0.204953  ]\n",
      " [0.0382812  0.0409856  0.0483389  ... 0.184899   0.205635   0.22974   ]\n",
      " ...\n",
      " [0.00644223 0.00634674 0.00610983 ... 0.00868021 0.00858076 0.00852174]\n",
      " [0.00440699 0.00437299 0.00430219 ... 0.00763188 0.00762144 0.00757476]\n",
      " [0.00782422 0.00773023 0.00749895 ... 0.0110371  0.0109334  0.0108708 ]]\n",
      "93639.89664079493\n",
      "277242\n",
      "accuracy\n",
      "41.883299308692024\n"
     ]
    },
    {
     "name": "stderr",
     "output_type": "stream",
     "text": [
      "C:\\Users\\User\\Anaconda3\\lib\\site-packages\\ipykernel_launcher.py:13: RuntimeWarning: divide by zero encountered in true_divide\n",
      "  del sys.path[0]\n",
      "C:\\Users\\User\\Anaconda3\\lib\\site-packages\\ipykernel_launcher.py:13: RuntimeWarning: invalid value encountered in true_divide\n",
      "  del sys.path[0]\n"
     ]
    }
   ],
   "source": [
    "#LinearRegression\n",
    "from sklearn.linear_model import LinearRegression\n",
    "model = LinearRegression(fit_intercept=True)\n",
    "model.fit(train_x, train_y)\n",
    "\n",
    "predict_test = model.predict(test_x)\n",
    "print(predict_test.shape)\n",
    "\n",
    "print(predict_test)\n",
    "print(test_y)\n",
    "\n",
    "#compute Accuracy\n",
    "tmp = abs( test_y - predict_test )/abs( test_y )\n",
    "#print(tmp)\n",
    "#print(type(tmp))\n",
    "#print(\"-----------------------------------------------------------\")\n",
    "tmp[tmp >1] =1\n",
    "#print(tmp**2)\n",
    "square = tmp**2\n",
    "#print(square.shape[1])\n",
    "sum1 = np.nansum(square)\n",
    "print(sum1)\n",
    "n = square.shape[0] * square.shape[1]\n",
    "print(n)\n",
    "score = 100 - 100 * (np.sqrt(sum1/n))\n",
    "print(\"accuracy\")\n",
    "print(score)\n"
   ]
  },
  {
   "cell_type": "code",
   "execution_count": null,
   "metadata": {},
   "outputs": [],
   "source": []
  }
 ],
 "metadata": {
  "kernelspec": {
   "display_name": "Python 3",
   "language": "python",
   "name": "python3"
  },
  "language_info": {
   "codemirror_mode": {
    "name": "ipython",
    "version": 3
   },
   "file_extension": ".py",
   "mimetype": "text/x-python",
   "name": "python",
   "nbconvert_exporter": "python",
   "pygments_lexer": "ipython3",
   "version": "3.7.3"
  }
 },
 "nbformat": 4,
 "nbformat_minor": 4
}
